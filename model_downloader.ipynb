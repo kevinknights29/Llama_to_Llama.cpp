{
 "cells": [
  {
   "cell_type": "markdown",
   "id": "e68e5595-bbd4-4cca-a404-78ad1cef6b4a",
   "metadata": {},
   "source": [
    "# Download model from Hugginface"
   ]
  },
  {
   "cell_type": "code",
   "execution_count": 1,
   "id": "d42f298c-2243-4430-b3f6-697df9bdcb06",
   "metadata": {
    "tags": []
   },
   "outputs": [
    {
     "name": "stderr",
     "output_type": "stream",
     "text": [
      "/opt/conda/lib/python3.11/site-packages/tqdm/auto.py:21: TqdmWarning: IProgress not found. Please update jupyter and ipywidgets. See https://ipywidgets.readthedocs.io/en/stable/user_install.html\n",
      "  from .autonotebook import tqdm as notebook_tqdm\n"
     ]
    }
   ],
   "source": [
    "import logging\n",
    "import os\n",
    "import sys\n",
    "\n",
    "from dotenv import find_dotenv\n",
    "from dotenv import load_dotenv\n",
    "from huggingface_hub import login\n",
    "from huggingface_hub import snapshot_download"
   ]
  },
  {
   "cell_type": "code",
   "execution_count": 2,
   "id": "8887de19-1420-4fa6-9512-1d338e62c990",
   "metadata": {
    "tags": []
   },
   "outputs": [],
   "source": [
    "# Environment variables\n",
    "_ = load_dotenv(find_dotenv())\n",
    "HUGGINGFACE_TOKEN = os.getenv(\"HUGGINGFACE_TOKEN\")"
   ]
  },
  {
   "cell_type": "code",
   "execution_count": 3,
   "id": "f4146c86-5afe-438b-a561-a23e0b73139a",
   "metadata": {
    "tags": []
   },
   "outputs": [],
   "source": [
    "# Logging\n",
    "logger = logging.getLogger(__name__)\n",
    "logger.setLevel(logging.INFO)\n",
    "formatter = logging.Formatter(\"%(asctime)s - %(name)s - %(levelname)s - %(message)s\")\n",
    "\n",
    "console_handler = logging.StreamHandler(sys.stdout)\n",
    "console_handler.setFormatter(formatter)\n",
    "logger.addHandler(console_handler)"
   ]
  },
  {
   "cell_type": "code",
   "execution_count": 4,
   "id": "b5602dc0-5484-47d6-b655-ebb5ef40a267",
   "metadata": {
    "tags": []
   },
   "outputs": [],
   "source": [
    "# Config\n",
    "HF_MODEL = \"meta-llama/Llama-2-7b-chat-hf\"\n",
    "MODELS_FOLDER = os.path.join(os.getcwd(), \"models\")"
   ]
  },
  {
   "cell_type": "code",
   "execution_count": 5,
   "id": "5a4c84f8-d58f-4589-a250-5c26be3d79ef",
   "metadata": {
    "tags": []
   },
   "outputs": [
    {
     "name": "stdout",
     "output_type": "stream",
     "text": [
      "2024-03-02 06:39:53,211 - __main__ - INFO - Logging to HuggingFace...\n",
      "Token has not been saved to git credential helper. Pass `add_to_git_credential=True` if you want to set the git credential as well.\n",
      "Token is valid (permission: write).\n",
      "Your token has been saved to /root/.cache/huggingface/token\n",
      "Login successful\n",
      "2024-03-02 06:39:53,601 - __main__ - INFO - Creating model directory...\n",
      "2024-03-02 06:39:53,603 - __main__ - INFO - Downloading model and tokenizer from HuggingFace...\n"
     ]
    },
    {
     "name": "stderr",
     "output_type": "stream",
     "text": [
      "Fetching 16 files: 100%|██████████| 16/16 [16:34<00:00, 62.14s/it]\n"
     ]
    },
    {
     "data": {
      "text/plain": [
       "'/workspaces/Llama_to_Llama.cpp/models/Llama-2-7b-chat-hf'"
      ]
     },
     "execution_count": 5,
     "metadata": {},
     "output_type": "execute_result"
    }
   ],
   "source": [
    "logger.info(\"Logging to HuggingFace...\")\n",
    "login(token=HUGGINGFACE_TOKEN)\n",
    "\n",
    "logger.info(\"Creating model directory...\")\n",
    "model_name = HF_MODEL.split(\"/\")[-1]\n",
    "# Create directory path\n",
    "model_path = os.path.join(MODELS_FOLDER, model_name)\n",
    "# Ensure the directory exists\n",
    "os.makedirs(model_path, exist_ok=True)\n",
    "\n",
    "logger.info(\"Downloading model and tokenizer from HuggingFace...\")\n",
    "snapshot_download(\n",
    "  repo_id=HF_MODEL,\n",
    "  local_dir=model_path,\n",
    "  local_dir_use_symlinks=False,\n",
    "  resume_download=True,\n",
    ")"
   ]
  }
 ],
 "metadata": {
  "kernelspec": {
   "display_name": "Python 3",
   "language": "python",
   "name": "python3"
  },
  "language_info": {
   "codemirror_mode": {
    "name": "ipython",
    "version": 3
   },
   "file_extension": ".py",
   "mimetype": "text/x-python",
   "name": "python",
   "nbconvert_exporter": "python",
   "pygments_lexer": "ipython3",
   "version": "3.11.7"
  }
 },
 "nbformat": 4,
 "nbformat_minor": 5
}
