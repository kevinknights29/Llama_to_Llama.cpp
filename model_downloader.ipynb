{
 "cells": [
  {
   "cell_type": "markdown",
   "id": "e68e5595-bbd4-4cca-a404-78ad1cef6b4a",
   "metadata": {},
   "source": [
    "# Download model from Hugginface"
   ]
  },
  {
   "cell_type": "code",
   "execution_count": 2,
   "id": "d42f298c-2243-4430-b3f6-697df9bdcb06",
   "metadata": {
    "tags": []
   },
   "outputs": [
    {
     "name": "stderr",
     "output_type": "stream",
     "text": [
      "/opt/conda/lib/python3.11/site-packages/tqdm/auto.py:21: TqdmWarning: IProgress not found. Please update jupyter and ipywidgets. See https://ipywidgets.readthedocs.io/en/stable/user_install.html\n",
      "  from .autonotebook import tqdm as notebook_tqdm\n"
     ]
    }
   ],
   "source": [
    "import logging\n",
    "import os\n",
    "import sys\n",
    "\n",
    "from dotenv import find_dotenv\n",
    "from dotenv import load_dotenv\n",
    "from huggingface_hub import login\n",
    "from huggingface_hub import snapshot_download"
   ]
  },
  {
   "cell_type": "code",
   "execution_count": 3,
   "id": "8887de19-1420-4fa6-9512-1d338e62c990",
   "metadata": {
    "tags": []
   },
   "outputs": [],
   "source": [
    "# Environment variables\n",
    "_ = load_dotenv(find_dotenv())\n",
    "HUGGINGFACE_TOKEN = os.getenv(\"HUGGINGFACE_TOKEN\")"
   ]
  },
  {
   "cell_type": "code",
   "execution_count": 4,
   "id": "f4146c86-5afe-438b-a561-a23e0b73139a",
   "metadata": {
    "tags": []
   },
   "outputs": [],
   "source": [
    "# Logging\n",
    "logger = logging.getLogger(__name__)\n",
    "logger.setLevel(logging.INFO)\n",
    "formatter = logging.Formatter(\"%(asctime)s - %(name)s - %(levelname)s - %(message)s\")\n",
    "\n",
    "console_handler = logging.StreamHandler(sys.stdout)\n",
    "console_handler.setFormatter(formatter)\n",
    "logger.addHandler(console_handler)"
   ]
  },
  {
   "cell_type": "code",
   "execution_count": 5,
   "id": "b5602dc0-5484-47d6-b655-ebb5ef40a267",
   "metadata": {
    "tags": []
   },
   "outputs": [],
   "source": [
    "# Config\n",
    "HF_MODEL = \"meta-llama/Llama-2-7b-chat-hf\"\n",
    "MODELS_FOLDER = os.path.join(os.getcwd(), \"models\")"
   ]
  },
  {
   "cell_type": "code",
   "execution_count": 6,
   "id": "5a4c84f8-d58f-4589-a250-5c26be3d79ef",
   "metadata": {
    "tags": []
   },
   "outputs": [
    {
     "name": "stdout",
     "output_type": "stream",
     "text": [
      "2024-02-29 03:59:26,519 - __main__ - INFO - Logging to HuggingFace...\n",
      "Token has not been saved to git credential helper. Pass `add_to_git_credential=True` if you want to set the git credential as well.\n",
      "Token is valid (permission: write).\n",
      "Your token has been saved to /root/.cache/huggingface/token\n",
      "Login successful\n",
      "2024-02-29 03:59:26,923 - __main__ - INFO - Creating model directory...\n",
      "2024-02-29 03:59:26,924 - __main__ - INFO - Downloading model and tokenizer from HuggingFace...\n"
     ]
    },
    {
     "name": "stderr",
     "output_type": "stream",
     "text": [
      "Fetching 16 files:  38%|███▊      | 6/16 [00:19<00:00, 11.94it/s]Error while downloading from https://cdn-lfs.huggingface.co/repos/34/fa/34fa0aabe98acb3ff4f32374017550dedfae6db05863872cb0cdda960f59a928/aa5ed69a0bc6fb6c520651607f0d857f2aac245e721087d706926cf032887342?response-content-disposition=attachment%3B+filename*%3DUTF-8%27%27pytorch_model-00001-of-00002.bin%3B+filename%3D%22pytorch_model-00001-of-00002.bin%22%3B&response-content-type=application%2Foctet-stream&Expires=1709438367&Policy=eyJTdGF0ZW1lbnQiOlt7IkNvbmRpdGlvbiI6eyJEYXRlTGVzc1RoYW4iOnsiQVdTOkVwb2NoVGltZSI6MTcwOTQzODM2N319LCJSZXNvdXJjZSI6Imh0dHBzOi8vY2RuLWxmcy5odWdnaW5nZmFjZS5jby9yZXBvcy8zNC9mYS8zNGZhMGFhYmU5OGFjYjNmZjRmMzIzNzQwMTc1NTBkZWRmYWU2ZGIwNTg2Mzg3MmNiMGNkZGE5NjBmNTlhOTI4L2FhNWVkNjlhMGJjNmZiNmM1MjA2NTE2MDdmMGQ4NTdmMmFhYzI0NWU3MjEwODdkNzA2OTI2Y2YwMzI4ODczNDI%7EcmVzcG9uc2UtY29udGVudC1kaXNwb3NpdGlvbj0qJnJlc3BvbnNlLWNvbnRlbnQtdHlwZT0qIn1dfQ__&Signature=gx56v7NfBQz-fqDoNAs8GcDq30tsMdBkKr%7EBWi42w-MoLhXw-67nOLjUprdQMoAkfNXZB13C%7E8jO40p-GsJG109QGTVmr5h34q4VK2q-FGFv-aSQ6GWKQ2lOzogjVRfPhK1tKn96ZKmhlnN2UcAmAqjonfbPfM2oHpOQja8Dv4UuUOmzRVIQqN4Jfuz8iPm3OSZuBQuNwsN3cGHW-vJd6vRzGli-vJTc4zsRgxR52tHOghZI1AUMa4-lW3oDaMXWblaJ6Kr4rWGxREwVMjYoujIbWxMJyyq9piB07DRJVTr3tNQZBVDDsXx8xdiwQuLUM2WS4482pr5xhc-qr8lgIw__&Key-Pair-Id=KVTP0A1DKRTAX: HTTPSConnectionPool(host='cdn-lfs.huggingface.co', port=443): Read timed out.\n",
      "Trying to resume download...\n",
      "Error while downloading from https://cdn-lfs.huggingface.co/repos/34/fa/34fa0aabe98acb3ff4f32374017550dedfae6db05863872cb0cdda960f59a928/66dec18c9f1705b9387d62f8485f4e7d871ca388718786737ed3c72dbfaac9fb?response-content-disposition=attachment%3B+filename*%3DUTF-8%27%27model-00001-of-00002.safetensors%3B+filename%3D%22model-00001-of-00002.safetensors%22%3B&Expires=1709438367&Policy=eyJTdGF0ZW1lbnQiOlt7IkNvbmRpdGlvbiI6eyJEYXRlTGVzc1RoYW4iOnsiQVdTOkVwb2NoVGltZSI6MTcwOTQzODM2N319LCJSZXNvdXJjZSI6Imh0dHBzOi8vY2RuLWxmcy5odWdnaW5nZmFjZS5jby9yZXBvcy8zNC9mYS8zNGZhMGFhYmU5OGFjYjNmZjRmMzIzNzQwMTc1NTBkZWRmYWU2ZGIwNTg2Mzg3MmNiMGNkZGE5NjBmNTlhOTI4LzY2ZGVjMThjOWYxNzA1YjkzODdkNjJmODQ4NWY0ZTdkODcxY2EzODg3MTg3ODY3MzdlZDNjNzJkYmZhYWM5ZmI%7EcmVzcG9uc2UtY29udGVudC1kaXNwb3NpdGlvbj0qIn1dfQ__&Signature=vZhNSpCIKfKxXJibGuBZ2sxmF1FDGIVLA5lKrUMSUtWfC8zRLnf9IBcv0bhWnGZsde%7EwT2NOVhWMFf8BHsaemKhKQxcFdI%7EqIsAn7KmS1f2UwYPEw-HPofP1LUeJUxFzJL668B5pfc-Ro3HItE64osfrS%7EhUADbKhcXi-gMJ50QZXk0a0NcKe8Zaq293q9eEp%7E8X3KES7A7Pj1sHJhBBuW8c3okcrprhKhukHm6HiCd2U8ESMItDC3BIE3wabN%7EriACUKgF8uPGj9nzZf6loIX3guVuoa3ptj5wyL5UrGAdR9JtSIYJDOszrtl2yJLU0llU8i8S7zQpvAKTPRABAWg__&Key-Pair-Id=KVTP0A1DKRTAX: HTTPSConnectionPool(host='cdn-lfs.huggingface.co', port=443): Read timed out.\n",
      "Trying to resume download...\n",
      "Error while downloading from https://cdn-lfs.huggingface.co/repos/34/fa/34fa0aabe98acb3ff4f32374017550dedfae6db05863872cb0cdda960f59a928/1de3167f93dcd7c26ac5ad7077dfa987f2bc18e10078ccca6c975b2825c74827?response-content-disposition=attachment%3B+filename*%3DUTF-8%27%27pytorch_model-00002-of-00002.bin%3B+filename%3D%22pytorch_model-00002-of-00002.bin%22%3B&response-content-type=application%2Foctet-stream&Expires=1709438367&Policy=eyJTdGF0ZW1lbnQiOlt7IkNvbmRpdGlvbiI6eyJEYXRlTGVzc1RoYW4iOnsiQVdTOkVwb2NoVGltZSI6MTcwOTQzODM2N319LCJSZXNvdXJjZSI6Imh0dHBzOi8vY2RuLWxmcy5odWdnaW5nZmFjZS5jby9yZXBvcy8zNC9mYS8zNGZhMGFhYmU5OGFjYjNmZjRmMzIzNzQwMTc1NTBkZWRmYWU2ZGIwNTg2Mzg3MmNiMGNkZGE5NjBmNTlhOTI4LzFkZTMxNjdmOTNkY2Q3YzI2YWM1YWQ3MDc3ZGZhOTg3ZjJiYzE4ZTEwMDc4Y2NjYTZjOTc1YjI4MjVjNzQ4Mjc%7EcmVzcG9uc2UtY29udGVudC1kaXNwb3NpdGlvbj0qJnJlc3BvbnNlLWNvbnRlbnQtdHlwZT0qIn1dfQ__&Signature=yunzrgVOwn3HUjEyP60bD1pn2Mz4AGn5dvujYMqTDEvVho4NNxZANf0HCc48Mt12%7El49jIRh603l9Bk7IOxnjiR%7EDGMTZ86gY5qraPh7VlZrk2JfPQmjIF%7E0qyO1D9mte26METQyoCb-pFs8EkzUpt5N1wGOoCt5jVAwbPowXBtefqKdZPFdCvoCCs0PoqHtMokHMXY1JwbIvjJSSWpJeWizNKOaGlPxTL2EGL7FCIqU2mIHcR9yO1gstGuFy2FmJHcaVU%7En0fahzYXBe%7EkuzTEKfCQ%7EykLTH0R6BeXXTlwQcd8n5EbqMbGZs-IuZqIsSeu8GEQIy6AejNATCkfRAA__&Key-Pair-Id=KVTP0A1DKRTAX: HTTPSConnectionPool(host='cdn-lfs.huggingface.co', port=443): Read timed out.\n",
      "Trying to resume download...\n",
      "Error while downloading from https://cdn-lfs.huggingface.co/repos/34/fa/34fa0aabe98acb3ff4f32374017550dedfae6db05863872cb0cdda960f59a928/66dec18c9f1705b9387d62f8485f4e7d871ca388718786737ed3c72dbfaac9fb?response-content-disposition=attachment%3B+filename*%3DUTF-8%27%27model-00001-of-00002.safetensors%3B+filename%3D%22model-00001-of-00002.safetensors%22%3B&Expires=1709438367&Policy=eyJTdGF0ZW1lbnQiOlt7IkNvbmRpdGlvbiI6eyJEYXRlTGVzc1RoYW4iOnsiQVdTOkVwb2NoVGltZSI6MTcwOTQzODM2N319LCJSZXNvdXJjZSI6Imh0dHBzOi8vY2RuLWxmcy5odWdnaW5nZmFjZS5jby9yZXBvcy8zNC9mYS8zNGZhMGFhYmU5OGFjYjNmZjRmMzIzNzQwMTc1NTBkZWRmYWU2ZGIwNTg2Mzg3MmNiMGNkZGE5NjBmNTlhOTI4LzY2ZGVjMThjOWYxNzA1YjkzODdkNjJmODQ4NWY0ZTdkODcxY2EzODg3MTg3ODY3MzdlZDNjNzJkYmZhYWM5ZmI%7EcmVzcG9uc2UtY29udGVudC1kaXNwb3NpdGlvbj0qIn1dfQ__&Signature=vZhNSpCIKfKxXJibGuBZ2sxmF1FDGIVLA5lKrUMSUtWfC8zRLnf9IBcv0bhWnGZsde%7EwT2NOVhWMFf8BHsaemKhKQxcFdI%7EqIsAn7KmS1f2UwYPEw-HPofP1LUeJUxFzJL668B5pfc-Ro3HItE64osfrS%7EhUADbKhcXi-gMJ50QZXk0a0NcKe8Zaq293q9eEp%7E8X3KES7A7Pj1sHJhBBuW8c3okcrprhKhukHm6HiCd2U8ESMItDC3BIE3wabN%7EriACUKgF8uPGj9nzZf6loIX3guVuoa3ptj5wyL5UrGAdR9JtSIYJDOszrtl2yJLU0llU8i8S7zQpvAKTPRABAWg__&Key-Pair-Id=KVTP0A1DKRTAX: HTTPSConnectionPool(host='cdn-lfs.huggingface.co', port=443): Read timed out.\n",
      "Trying to resume download...\n",
      "Error while downloading from https://cdn-lfs.huggingface.co/repos/34/fa/34fa0aabe98acb3ff4f32374017550dedfae6db05863872cb0cdda960f59a928/aa5ed69a0bc6fb6c520651607f0d857f2aac245e721087d706926cf032887342?response-content-disposition=attachment%3B+filename*%3DUTF-8%27%27pytorch_model-00001-of-00002.bin%3B+filename%3D%22pytorch_model-00001-of-00002.bin%22%3B&response-content-type=application%2Foctet-stream&Expires=1709438367&Policy=eyJTdGF0ZW1lbnQiOlt7IkNvbmRpdGlvbiI6eyJEYXRlTGVzc1RoYW4iOnsiQVdTOkVwb2NoVGltZSI6MTcwOTQzODM2N319LCJSZXNvdXJjZSI6Imh0dHBzOi8vY2RuLWxmcy5odWdnaW5nZmFjZS5jby9yZXBvcy8zNC9mYS8zNGZhMGFhYmU5OGFjYjNmZjRmMzIzNzQwMTc1NTBkZWRmYWU2ZGIwNTg2Mzg3MmNiMGNkZGE5NjBmNTlhOTI4L2FhNWVkNjlhMGJjNmZiNmM1MjA2NTE2MDdmMGQ4NTdmMmFhYzI0NWU3MjEwODdkNzA2OTI2Y2YwMzI4ODczNDI%7EcmVzcG9uc2UtY29udGVudC1kaXNwb3NpdGlvbj0qJnJlc3BvbnNlLWNvbnRlbnQtdHlwZT0qIn1dfQ__&Signature=gx56v7NfBQz-fqDoNAs8GcDq30tsMdBkKr%7EBWi42w-MoLhXw-67nOLjUprdQMoAkfNXZB13C%7E8jO40p-GsJG109QGTVmr5h34q4VK2q-FGFv-aSQ6GWKQ2lOzogjVRfPhK1tKn96ZKmhlnN2UcAmAqjonfbPfM2oHpOQja8Dv4UuUOmzRVIQqN4Jfuz8iPm3OSZuBQuNwsN3cGHW-vJd6vRzGli-vJTc4zsRgxR52tHOghZI1AUMa4-lW3oDaMXWblaJ6Kr4rWGxREwVMjYoujIbWxMJyyq9piB07DRJVTr3tNQZBVDDsXx8xdiwQuLUM2WS4482pr5xhc-qr8lgIw__&Key-Pair-Id=KVTP0A1DKRTAX: HTTPSConnectionPool(host='cdn-lfs.huggingface.co', port=443): Read timed out.\n",
      "Trying to resume download...\n",
      "Error while downloading from https://cdn-lfs.huggingface.co/repos/34/fa/34fa0aabe98acb3ff4f32374017550dedfae6db05863872cb0cdda960f59a928/1de3167f93dcd7c26ac5ad7077dfa987f2bc18e10078ccca6c975b2825c74827?response-content-disposition=attachment%3B+filename*%3DUTF-8%27%27pytorch_model-00002-of-00002.bin%3B+filename%3D%22pytorch_model-00002-of-00002.bin%22%3B&response-content-type=application%2Foctet-stream&Expires=1709438367&Policy=eyJTdGF0ZW1lbnQiOlt7IkNvbmRpdGlvbiI6eyJEYXRlTGVzc1RoYW4iOnsiQVdTOkVwb2NoVGltZSI6MTcwOTQzODM2N319LCJSZXNvdXJjZSI6Imh0dHBzOi8vY2RuLWxmcy5odWdnaW5nZmFjZS5jby9yZXBvcy8zNC9mYS8zNGZhMGFhYmU5OGFjYjNmZjRmMzIzNzQwMTc1NTBkZWRmYWU2ZGIwNTg2Mzg3MmNiMGNkZGE5NjBmNTlhOTI4LzFkZTMxNjdmOTNkY2Q3YzI2YWM1YWQ3MDc3ZGZhOTg3ZjJiYzE4ZTEwMDc4Y2NjYTZjOTc1YjI4MjVjNzQ4Mjc%7EcmVzcG9uc2UtY29udGVudC1kaXNwb3NpdGlvbj0qJnJlc3BvbnNlLWNvbnRlbnQtdHlwZT0qIn1dfQ__&Signature=yunzrgVOwn3HUjEyP60bD1pn2Mz4AGn5dvujYMqTDEvVho4NNxZANf0HCc48Mt12%7El49jIRh603l9Bk7IOxnjiR%7EDGMTZ86gY5qraPh7VlZrk2JfPQmjIF%7E0qyO1D9mte26METQyoCb-pFs8EkzUpt5N1wGOoCt5jVAwbPowXBtefqKdZPFdCvoCCs0PoqHtMokHMXY1JwbIvjJSSWpJeWizNKOaGlPxTL2EGL7FCIqU2mIHcR9yO1gstGuFy2FmJHcaVU%7En0fahzYXBe%7EkuzTEKfCQ%7EykLTH0R6BeXXTlwQcd8n5EbqMbGZs-IuZqIsSeu8GEQIy6AejNATCkfRAA__&Key-Pair-Id=KVTP0A1DKRTAX: HTTPSConnectionPool(host='cdn-lfs.huggingface.co', port=443): Read timed out.\n",
      "Trying to resume download...\n",
      "Error while downloading from https://cdn-lfs.huggingface.co/repos/34/fa/34fa0aabe98acb3ff4f32374017550dedfae6db05863872cb0cdda960f59a928/66dec18c9f1705b9387d62f8485f4e7d871ca388718786737ed3c72dbfaac9fb?response-content-disposition=attachment%3B+filename*%3DUTF-8%27%27model-00001-of-00002.safetensors%3B+filename%3D%22model-00001-of-00002.safetensors%22%3B&Expires=1709438367&Policy=eyJTdGF0ZW1lbnQiOlt7IkNvbmRpdGlvbiI6eyJEYXRlTGVzc1RoYW4iOnsiQVdTOkVwb2NoVGltZSI6MTcwOTQzODM2N319LCJSZXNvdXJjZSI6Imh0dHBzOi8vY2RuLWxmcy5odWdnaW5nZmFjZS5jby9yZXBvcy8zNC9mYS8zNGZhMGFhYmU5OGFjYjNmZjRmMzIzNzQwMTc1NTBkZWRmYWU2ZGIwNTg2Mzg3MmNiMGNkZGE5NjBmNTlhOTI4LzY2ZGVjMThjOWYxNzA1YjkzODdkNjJmODQ4NWY0ZTdkODcxY2EzODg3MTg3ODY3MzdlZDNjNzJkYmZhYWM5ZmI%7EcmVzcG9uc2UtY29udGVudC1kaXNwb3NpdGlvbj0qIn1dfQ__&Signature=vZhNSpCIKfKxXJibGuBZ2sxmF1FDGIVLA5lKrUMSUtWfC8zRLnf9IBcv0bhWnGZsde%7EwT2NOVhWMFf8BHsaemKhKQxcFdI%7EqIsAn7KmS1f2UwYPEw-HPofP1LUeJUxFzJL668B5pfc-Ro3HItE64osfrS%7EhUADbKhcXi-gMJ50QZXk0a0NcKe8Zaq293q9eEp%7E8X3KES7A7Pj1sHJhBBuW8c3okcrprhKhukHm6HiCd2U8ESMItDC3BIE3wabN%7EriACUKgF8uPGj9nzZf6loIX3guVuoa3ptj5wyL5UrGAdR9JtSIYJDOszrtl2yJLU0llU8i8S7zQpvAKTPRABAWg__&Key-Pair-Id=KVTP0A1DKRTAX: HTTPSConnectionPool(host='cdn-lfs.huggingface.co', port=443): Read timed out.\n",
      "Trying to resume download...\n",
      "Error while downloading from https://cdn-lfs.huggingface.co/repos/34/fa/34fa0aabe98acb3ff4f32374017550dedfae6db05863872cb0cdda960f59a928/aa5ed69a0bc6fb6c520651607f0d857f2aac245e721087d706926cf032887342?response-content-disposition=attachment%3B+filename*%3DUTF-8%27%27pytorch_model-00001-of-00002.bin%3B+filename%3D%22pytorch_model-00001-of-00002.bin%22%3B&response-content-type=application%2Foctet-stream&Expires=1709438367&Policy=eyJTdGF0ZW1lbnQiOlt7IkNvbmRpdGlvbiI6eyJEYXRlTGVzc1RoYW4iOnsiQVdTOkVwb2NoVGltZSI6MTcwOTQzODM2N319LCJSZXNvdXJjZSI6Imh0dHBzOi8vY2RuLWxmcy5odWdnaW5nZmFjZS5jby9yZXBvcy8zNC9mYS8zNGZhMGFhYmU5OGFjYjNmZjRmMzIzNzQwMTc1NTBkZWRmYWU2ZGIwNTg2Mzg3MmNiMGNkZGE5NjBmNTlhOTI4L2FhNWVkNjlhMGJjNmZiNmM1MjA2NTE2MDdmMGQ4NTdmMmFhYzI0NWU3MjEwODdkNzA2OTI2Y2YwMzI4ODczNDI%7EcmVzcG9uc2UtY29udGVudC1kaXNwb3NpdGlvbj0qJnJlc3BvbnNlLWNvbnRlbnQtdHlwZT0qIn1dfQ__&Signature=gx56v7NfBQz-fqDoNAs8GcDq30tsMdBkKr%7EBWi42w-MoLhXw-67nOLjUprdQMoAkfNXZB13C%7E8jO40p-GsJG109QGTVmr5h34q4VK2q-FGFv-aSQ6GWKQ2lOzogjVRfPhK1tKn96ZKmhlnN2UcAmAqjonfbPfM2oHpOQja8Dv4UuUOmzRVIQqN4Jfuz8iPm3OSZuBQuNwsN3cGHW-vJd6vRzGli-vJTc4zsRgxR52tHOghZI1AUMa4-lW3oDaMXWblaJ6Kr4rWGxREwVMjYoujIbWxMJyyq9piB07DRJVTr3tNQZBVDDsXx8xdiwQuLUM2WS4482pr5xhc-qr8lgIw__&Key-Pair-Id=KVTP0A1DKRTAX: HTTPSConnectionPool(host='cdn-lfs.huggingface.co', port=443): Read timed out.\n",
      "Trying to resume download...\n",
      "Error while downloading from https://cdn-lfs.huggingface.co/repos/34/fa/34fa0aabe98acb3ff4f32374017550dedfae6db05863872cb0cdda960f59a928/1de3167f93dcd7c26ac5ad7077dfa987f2bc18e10078ccca6c975b2825c74827?response-content-disposition=attachment%3B+filename*%3DUTF-8%27%27pytorch_model-00002-of-00002.bin%3B+filename%3D%22pytorch_model-00002-of-00002.bin%22%3B&response-content-type=application%2Foctet-stream&Expires=1709438367&Policy=eyJTdGF0ZW1lbnQiOlt7IkNvbmRpdGlvbiI6eyJEYXRlTGVzc1RoYW4iOnsiQVdTOkVwb2NoVGltZSI6MTcwOTQzODM2N319LCJSZXNvdXJjZSI6Imh0dHBzOi8vY2RuLWxmcy5odWdnaW5nZmFjZS5jby9yZXBvcy8zNC9mYS8zNGZhMGFhYmU5OGFjYjNmZjRmMzIzNzQwMTc1NTBkZWRmYWU2ZGIwNTg2Mzg3MmNiMGNkZGE5NjBmNTlhOTI4LzFkZTMxNjdmOTNkY2Q3YzI2YWM1YWQ3MDc3ZGZhOTg3ZjJiYzE4ZTEwMDc4Y2NjYTZjOTc1YjI4MjVjNzQ4Mjc%7EcmVzcG9uc2UtY29udGVudC1kaXNwb3NpdGlvbj0qJnJlc3BvbnNlLWNvbnRlbnQtdHlwZT0qIn1dfQ__&Signature=yunzrgVOwn3HUjEyP60bD1pn2Mz4AGn5dvujYMqTDEvVho4NNxZANf0HCc48Mt12%7El49jIRh603l9Bk7IOxnjiR%7EDGMTZ86gY5qraPh7VlZrk2JfPQmjIF%7E0qyO1D9mte26METQyoCb-pFs8EkzUpt5N1wGOoCt5jVAwbPowXBtefqKdZPFdCvoCCs0PoqHtMokHMXY1JwbIvjJSSWpJeWizNKOaGlPxTL2EGL7FCIqU2mIHcR9yO1gstGuFy2FmJHcaVU%7En0fahzYXBe%7EkuzTEKfCQ%7EykLTH0R6BeXXTlwQcd8n5EbqMbGZs-IuZqIsSeu8GEQIy6AejNATCkfRAA__&Key-Pair-Id=KVTP0A1DKRTAX: HTTPSConnectionPool(host='cdn-lfs.huggingface.co', port=443): Read timed out.\n",
      "Trying to resume download...\n",
      "Error while downloading from https://cdn-lfs.huggingface.co/repos/34/fa/34fa0aabe98acb3ff4f32374017550dedfae6db05863872cb0cdda960f59a928/1de3167f93dcd7c26ac5ad7077dfa987f2bc18e10078ccca6c975b2825c74827?response-content-disposition=attachment%3B+filename*%3DUTF-8%27%27pytorch_model-00002-of-00002.bin%3B+filename%3D%22pytorch_model-00002-of-00002.bin%22%3B&response-content-type=application%2Foctet-stream&Expires=1709438367&Policy=eyJTdGF0ZW1lbnQiOlt7IkNvbmRpdGlvbiI6eyJEYXRlTGVzc1RoYW4iOnsiQVdTOkVwb2NoVGltZSI6MTcwOTQzODM2N319LCJSZXNvdXJjZSI6Imh0dHBzOi8vY2RuLWxmcy5odWdnaW5nZmFjZS5jby9yZXBvcy8zNC9mYS8zNGZhMGFhYmU5OGFjYjNmZjRmMzIzNzQwMTc1NTBkZWRmYWU2ZGIwNTg2Mzg3MmNiMGNkZGE5NjBmNTlhOTI4LzFkZTMxNjdmOTNkY2Q3YzI2YWM1YWQ3MDc3ZGZhOTg3ZjJiYzE4ZTEwMDc4Y2NjYTZjOTc1YjI4MjVjNzQ4Mjc%7EcmVzcG9uc2UtY29udGVudC1kaXNwb3NpdGlvbj0qJnJlc3BvbnNlLWNvbnRlbnQtdHlwZT0qIn1dfQ__&Signature=yunzrgVOwn3HUjEyP60bD1pn2Mz4AGn5dvujYMqTDEvVho4NNxZANf0HCc48Mt12%7El49jIRh603l9Bk7IOxnjiR%7EDGMTZ86gY5qraPh7VlZrk2JfPQmjIF%7E0qyO1D9mte26METQyoCb-pFs8EkzUpt5N1wGOoCt5jVAwbPowXBtefqKdZPFdCvoCCs0PoqHtMokHMXY1JwbIvjJSSWpJeWizNKOaGlPxTL2EGL7FCIqU2mIHcR9yO1gstGuFy2FmJHcaVU%7En0fahzYXBe%7EkuzTEKfCQ%7EykLTH0R6BeXXTlwQcd8n5EbqMbGZs-IuZqIsSeu8GEQIy6AejNATCkfRAA__&Key-Pair-Id=KVTP0A1DKRTAX: HTTPSConnectionPool(host='cdn-lfs.huggingface.co', port=443): Read timed out.\n",
      "Trying to resume download...\n",
      "Error while downloading from https://cdn-lfs.huggingface.co/repos/34/fa/34fa0aabe98acb3ff4f32374017550dedfae6db05863872cb0cdda960f59a928/66dec18c9f1705b9387d62f8485f4e7d871ca388718786737ed3c72dbfaac9fb?response-content-disposition=attachment%3B+filename*%3DUTF-8%27%27model-00001-of-00002.safetensors%3B+filename%3D%22model-00001-of-00002.safetensors%22%3B&Expires=1709438367&Policy=eyJTdGF0ZW1lbnQiOlt7IkNvbmRpdGlvbiI6eyJEYXRlTGVzc1RoYW4iOnsiQVdTOkVwb2NoVGltZSI6MTcwOTQzODM2N319LCJSZXNvdXJjZSI6Imh0dHBzOi8vY2RuLWxmcy5odWdnaW5nZmFjZS5jby9yZXBvcy8zNC9mYS8zNGZhMGFhYmU5OGFjYjNmZjRmMzIzNzQwMTc1NTBkZWRmYWU2ZGIwNTg2Mzg3MmNiMGNkZGE5NjBmNTlhOTI4LzY2ZGVjMThjOWYxNzA1YjkzODdkNjJmODQ4NWY0ZTdkODcxY2EzODg3MTg3ODY3MzdlZDNjNzJkYmZhYWM5ZmI%7EcmVzcG9uc2UtY29udGVudC1kaXNwb3NpdGlvbj0qIn1dfQ__&Signature=vZhNSpCIKfKxXJibGuBZ2sxmF1FDGIVLA5lKrUMSUtWfC8zRLnf9IBcv0bhWnGZsde%7EwT2NOVhWMFf8BHsaemKhKQxcFdI%7EqIsAn7KmS1f2UwYPEw-HPofP1LUeJUxFzJL668B5pfc-Ro3HItE64osfrS%7EhUADbKhcXi-gMJ50QZXk0a0NcKe8Zaq293q9eEp%7E8X3KES7A7Pj1sHJhBBuW8c3okcrprhKhukHm6HiCd2U8ESMItDC3BIE3wabN%7EriACUKgF8uPGj9nzZf6loIX3guVuoa3ptj5wyL5UrGAdR9JtSIYJDOszrtl2yJLU0llU8i8S7zQpvAKTPRABAWg__&Key-Pair-Id=KVTP0A1DKRTAX: HTTPSConnectionPool(host='cdn-lfs.huggingface.co', port=443): Read timed out.\n",
      "Trying to resume download...\n",
      "Error while downloading from https://cdn-lfs.huggingface.co/repos/34/fa/34fa0aabe98acb3ff4f32374017550dedfae6db05863872cb0cdda960f59a928/aa5ed69a0bc6fb6c520651607f0d857f2aac245e721087d706926cf032887342?response-content-disposition=attachment%3B+filename*%3DUTF-8%27%27pytorch_model-00001-of-00002.bin%3B+filename%3D%22pytorch_model-00001-of-00002.bin%22%3B&response-content-type=application%2Foctet-stream&Expires=1709438367&Policy=eyJTdGF0ZW1lbnQiOlt7IkNvbmRpdGlvbiI6eyJEYXRlTGVzc1RoYW4iOnsiQVdTOkVwb2NoVGltZSI6MTcwOTQzODM2N319LCJSZXNvdXJjZSI6Imh0dHBzOi8vY2RuLWxmcy5odWdnaW5nZmFjZS5jby9yZXBvcy8zNC9mYS8zNGZhMGFhYmU5OGFjYjNmZjRmMzIzNzQwMTc1NTBkZWRmYWU2ZGIwNTg2Mzg3MmNiMGNkZGE5NjBmNTlhOTI4L2FhNWVkNjlhMGJjNmZiNmM1MjA2NTE2MDdmMGQ4NTdmMmFhYzI0NWU3MjEwODdkNzA2OTI2Y2YwMzI4ODczNDI%7EcmVzcG9uc2UtY29udGVudC1kaXNwb3NpdGlvbj0qJnJlc3BvbnNlLWNvbnRlbnQtdHlwZT0qIn1dfQ__&Signature=gx56v7NfBQz-fqDoNAs8GcDq30tsMdBkKr%7EBWi42w-MoLhXw-67nOLjUprdQMoAkfNXZB13C%7E8jO40p-GsJG109QGTVmr5h34q4VK2q-FGFv-aSQ6GWKQ2lOzogjVRfPhK1tKn96ZKmhlnN2UcAmAqjonfbPfM2oHpOQja8Dv4UuUOmzRVIQqN4Jfuz8iPm3OSZuBQuNwsN3cGHW-vJd6vRzGli-vJTc4zsRgxR52tHOghZI1AUMa4-lW3oDaMXWblaJ6Kr4rWGxREwVMjYoujIbWxMJyyq9piB07DRJVTr3tNQZBVDDsXx8xdiwQuLUM2WS4482pr5xhc-qr8lgIw__&Key-Pair-Id=KVTP0A1DKRTAX: HTTPSConnectionPool(host='cdn-lfs.huggingface.co', port=443): Read timed out.\n",
      "Trying to resume download...\n",
      "Fetching 16 files:  38%|███▊      | 6/16 [04:59<08:18, 49.89s/it]\n"
     ]
    }
   ],
   "source": [
    "logger.info(\"Logging to HuggingFace...\")\n",
    "login(token=HUGGINGFACE_TOKEN)\n",
    "\n",
    "logger.info(\"Creating model directory...\")\n",
    "model_name = HF_MODEL.split(\"/\")[-1]\n",
    "# Create directory path\n",
    "model_path = os.path.join(MODELS_FOLDER, model_name)\n",
    "# Ensure the directory exists\n",
    "os.makedirs(model_path, exist_ok=True)\n",
    "\n",
    "logger.info(\"Downloading model and tokenizer from HuggingFace...\")\n",
    "snapshot_download(\n",
    "  repo_id=HF_MODEL,\n",
    "  local_dir=model_path,\n",
    "  local_dir_use_symlinks=False,\n",
    "  resume_download=True,\n",
    ")"
   ]
  }
 ],
 "metadata": {
  "kernelspec": {
   "display_name": "Python 3",
   "language": "python",
   "name": "python3"
  },
  "language_info": {
   "codemirror_mode": {
    "name": "ipython",
    "version": 3
   },
   "file_extension": ".py",
   "mimetype": "text/x-python",
   "name": "python",
   "nbconvert_exporter": "python",
   "pygments_lexer": "ipython3",
   "version": "3.11.7"
  }
 },
 "nbformat": 4,
 "nbformat_minor": 5
}
