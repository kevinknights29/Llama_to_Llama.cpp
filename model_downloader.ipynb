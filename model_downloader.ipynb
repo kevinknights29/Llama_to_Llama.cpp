{
 "cells": [
  {
   "cell_type": "markdown",
   "id": "e68e5595-bbd4-4cca-a404-78ad1cef6b4a",
   "metadata": {},
   "source": [
    "# Download model from Hugginface"
   ]
  },
  {
   "cell_type": "code",
   "execution_count": 15,
   "id": "d42f298c-2243-4430-b3f6-697df9bdcb06",
   "metadata": {
    "tags": []
   },
   "outputs": [],
   "source": [
    "import logging\n",
    "import os\n",
    "import sys\n",
    "\n",
    "from dotenv import find_dotenv\n",
    "from dotenv import load_dotenv\n",
    "from huggingface_hub import login\n",
    "from huggingface_hub import snapshot_download"
   ]
  },
  {
   "cell_type": "code",
   "execution_count": 2,
   "id": "8887de19-1420-4fa6-9512-1d338e62c990",
   "metadata": {
    "tags": []
   },
   "outputs": [],
   "source": [
    "# Environment variables\n",
    "_ = load_dotenv(find_dotenv())\n",
    "HUGGINGFACE_TOKEN = os.getenv(\"HUGGINGFACE_TOKEN\")"
   ]
  },
  {
   "cell_type": "code",
   "execution_count": 3,
   "id": "f4146c86-5afe-438b-a561-a23e0b73139a",
   "metadata": {
    "tags": []
   },
   "outputs": [],
   "source": [
    "# Logging\n",
    "logger = logging.getLogger(__name__)\n",
    "logger.setLevel(logging.INFO)\n",
    "formatter = logging.Formatter(\"%(asctime)s - %(name)s - %(levelname)s - %(message)s\")\n",
    "\n",
    "console_handler = logging.StreamHandler(sys.stdout)\n",
    "console_handler.setFormatter(formatter)\n",
    "logger.addHandler(console_handler)"
   ]
  },
  {
   "cell_type": "code",
   "execution_count": 9,
   "id": "b5602dc0-5484-47d6-b655-ebb5ef40a267",
   "metadata": {
    "tags": []
   },
   "outputs": [],
   "source": [
    "# Config\n",
    "HF_MODEL = \"meta-llama/Llama-2-7b-chat-hf\"\n",
    "MODELS_FOLDER = os.getcwd()"
   ]
  },
  {
   "cell_type": "code",
   "execution_count": 16,
   "id": "5a4c84f8-d58f-4589-a250-5c26be3d79ef",
   "metadata": {
    "tags": []
   },
   "outputs": [
    {
     "data": {
      "application/vnd.jupyter.widget-view+json": {
       "model_id": "af8beca6f3594c8d9cd216fb07264f41",
       "version_major": 2,
       "version_minor": 0
      },
      "text/plain": [
       "Fetching 16 files:   0%|          | 0/16 [00:00<?, ?it/s]"
      ]
     },
     "metadata": {},
     "output_type": "display_data"
    },
    {
     "data": {
      "application/vnd.jupyter.widget-view+json": {
       "model_id": "c88a6bb8fa164ab19779edcc2b7b5315",
       "version_major": 2,
       "version_minor": 0
      },
      "text/plain": [
       "Downloading (…)450235/USE_POLICY.md:   0%|          | 0.00/4.77k [00:00<?, ?B/s]"
      ]
     },
     "metadata": {},
     "output_type": "display_data"
    },
    {
     "data": {
      "application/vnd.jupyter.widget-view+json": {
       "model_id": "6e8d0288e8ff48a2947cf841cc535340",
       "version_major": 2,
       "version_minor": 0
      },
      "text/plain": [
       "Downloading (…)50235/.gitattributes:   0%|          | 0.00/1.52k [00:00<?, ?B/s]"
      ]
     },
     "metadata": {},
     "output_type": "display_data"
    },
    {
     "data": {
      "application/vnd.jupyter.widget-view+json": {
       "model_id": "f598219bb96445bcaccd7254c1f1781c",
       "version_major": 2,
       "version_minor": 0
      },
      "text/plain": [
       "Downloading (…)d7450235/LICENSE.txt:   0%|          | 0.00/7.02k [00:00<?, ?B/s]"
      ]
     },
     "metadata": {},
     "output_type": "display_data"
    },
    {
     "data": {
      "application/vnd.jupyter.widget-view+json": {
       "model_id": "24c6b4dfc2d342abaf59b564bcfd1c08",
       "version_major": 2,
       "version_minor": 0
      },
      "text/plain": [
       "Downloading (…)53d7450235/README.md:   0%|          | 0.00/10.4k [00:00<?, ?B/s]"
      ]
     },
     "metadata": {},
     "output_type": "display_data"
    },
    {
     "data": {
      "application/vnd.jupyter.widget-view+json": {
       "model_id": "1c80a8eaeb5a4e26a669b1775e615290",
       "version_major": 2,
       "version_minor": 0
      },
      "text/plain": [
       "Downloading (…)l-00001-of-00002.bin:   0%|          | 0.00/9.98G [00:00<?, ?B/s]"
      ]
     },
     "metadata": {},
     "output_type": "display_data"
    },
    {
     "data": {
      "application/vnd.jupyter.widget-view+json": {
       "model_id": "d3631bb4c1984e3d8a8f1f9fde1ae1eb",
       "version_major": 2,
       "version_minor": 0
      },
      "text/plain": [
       "Downloading (…)l-00002-of-00002.bin:   0%|          | 0.00/3.50G [00:00<?, ?B/s]"
      ]
     },
     "metadata": {},
     "output_type": "display_data"
    },
    {
     "data": {
      "application/vnd.jupyter.widget-view+json": {
       "model_id": "bfdd3f033d7047afb1fcfb774a0f3cb0",
       "version_major": 2,
       "version_minor": 0
      },
      "text/plain": [
       "Downloading (…)model.bin.index.json:   0%|          | 0.00/26.8k [00:00<?, ?B/s]"
      ]
     },
     "metadata": {},
     "output_type": "display_data"
    },
    {
     "data": {
      "text/plain": [
       "'/home/dell/llama-v2-evaluation/social_content_gen/Llama-2-7b-chat-hf'"
      ]
     },
     "execution_count": 16,
     "metadata": {},
     "output_type": "execute_result"
    }
   ],
   "source": [
    "logger.info(\"Logging to HuggingFace...\")\n",
    "login(token=HUGGINGFACE_TOKEN)\n",
    "\n",
    "logger.info(\"Creating model directory...\")\n",
    "model_name = HF_MODEL.split(\"/\")[-1]\n",
    "# Create directory path\n",
    "model_path = os.path.join(MODELS_FOLDER, model_name)\n",
    "# Ensure the directory exists\n",
    "os.makedirs(model_path, exist_ok=True)\n",
    "\n",
    "logger.info(\"Downloading model and tokenizer from HuggingFace...\")\n",
    "snapshot_download(\n",
    "  repo_id=HF_MODEL,\n",
    "  local_dir=model_path,\n",
    "  local_dir_use_symlinks=False,\n",
    "  resume_download=True,\n",
    ")"
   ]
  }
 ],
 "metadata": {
  "kernelspec": {
   "display_name": "Python 3",
   "language": "python",
   "name": "python3"
  },
  "language_info": {
   "codemirror_mode": {
    "name": "ipython",
    "version": 3
   },
   "file_extension": ".py",
   "mimetype": "text/x-python",
   "name": "python",
   "nbconvert_exporter": "python",
   "pygments_lexer": "ipython3",
   "version": "3.11.7"
  }
 },
 "nbformat": 4,
 "nbformat_minor": 5
}
